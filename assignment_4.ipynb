{
 "cells": [
  {
   "cell_type": "markdown",
   "source": [
    "1 Write a program which for a given integer N prints on the screen in ascending order all natural numbers' squares which do not exceed N.\n",
    "I​nput\n",
    "A positive integer ​is entered. It is assumed that a user inputs data properly, so the program does not need to check whether the input is correct.\n",
    "O​utput\n",
    "Print the solution of the problem."
   ],
   "metadata": {
    "collapsed": false,
    "pycharm": {
     "name": "#%% md\n"
    }
   }
  },
  {
   "cell_type": "code",
   "execution_count": 14,
   "outputs": [
    {
     "name": "stdout",
     "output_type": "stream",
     "text": [
      "1 4 9 16 25 36 49 64 81 100 "
     ]
    }
   ],
   "source": [
    "num = int(input())\n",
    "\n",
    "i = 1\n",
    "while i*i <= num:\n",
    "   print(i*i, end=' ')\n",
    "   i += 1\n",
    "\n"
   ],
   "metadata": {
    "collapsed": false,
    "pycharm": {
     "name": "#%%\n"
    }
   }
  },
  {
   "cell_type": "markdown",
   "source": [
    "2 For a given number N, print on the screen in ascending order all integer powers of 2 which do not exceed N. The use of exponentiation operation is strongly prohibited to solve this task!\n",
    "I​nput\n",
    "A positive integer ​is entered. It is assumed that a user inputs data properly, so the program does not need to check whether the input is correct.\n",
    "O​utput\n",
    "Print the solution of the problem."
   ],
   "metadata": {
    "collapsed": false,
    "pycharm": {
     "name": "#%% md\n"
    }
   }
  },
  {
   "cell_type": "code",
   "execution_count": 20,
   "outputs": [
    {
     "name": "stdout",
     "output_type": "stream",
     "text": [
      "1 2 4 8 "
     ]
    }
   ],
   "source": [
    "num = int(input())\n",
    "\n",
    "i = 0\n",
    "while 2**i <= num:\n",
    "   print(2**i, end=' ')\n",
    "   i += 1"
   ],
   "metadata": {
    "collapsed": false,
    "pycharm": {
     "name": "#%%\n"
    }
   }
  },
  {
   "cell_type": "markdown",
   "source": [
    "3 Vasilisa deposited x dollars in a bank account that pays compound interest of p percent, i.e. interest calculated on the initial principal which also includes all of the accumulated interest from previous periods on a deposit. According to the deposit's conditions, the fractional part of cents is discarded after calculating interest. Write a program which calculates in how many years the deposit will be at least y dollars.\n",
    "I​nput\n",
    "The program reads three natural numbers - x, p, and y - from the keyboard as input. It is assumed that a user inputs data properly, so the program does not need to check whether the input is correct.\n",
    "O​utput\n",
    "Print the solution of the problem.\n",
    "N​B! \"The fractional part of cents is discarded\" means that if deposit has 123.4567 dollars after calculating interest, i.e. 123 dollars and 45.67 cents, then 123 dollars and 45 cents, i.e. 123.45 cents will be deposited."
   ],
   "metadata": {
    "collapsed": false,
    "pycharm": {
     "name": "#%% md\n"
    }
   }
  },
  {
   "cell_type": "code",
   "execution_count": 29,
   "outputs": [
    {
     "name": "stdout",
     "output_type": "stream",
     "text": [
      "1\n"
     ]
    }
   ],
   "source": [
    "dollars_in = int(input())\n",
    "interest = int(input())\n",
    "limit = int(input())\n",
    "\n",
    "cents2dollars = dollars_in * 100\n",
    "limit2cents = limit * 100\n",
    "i = 0\n",
    "\n",
    "while  cents2dollars < limit2cents:\n",
    "   cents2dollars = int(cents2dollars * (1 + interest / 100))\n",
    "   i += 1\n",
    "\n",
    "print(i)\n"
   ],
   "metadata": {
    "collapsed": false,
    "pycharm": {
     "name": "#%%\n"
    }
   }
  },
  {
   "cell_type": "markdown",
   "source": [
    "4 The Fibonacci sequence is defined as F[0] = 0, F[1] = 1, ..., F[n] = F[n-1] + F[n-2]. Write a program which determines the n-th Fibonacci number F[n] for the given number n and prints it on the screen.\n",
    "I​nput\n",
    "A positive integer n ​is entered. It is assumed that a user inputs data properly, so the program does not need to check whether the input is correct.\n",
    "O​utput\n",
    "Print the solution of the problem."
   ],
   "metadata": {
    "collapsed": false,
    "pycharm": {
     "name": "#%% md\n"
    }
   }
  },
  {
   "cell_type": "code",
   "execution_count": 68,
   "outputs": [
    {
     "name": "stdout",
     "output_type": "stream",
     "text": [
      "0\n"
     ]
    }
   ],
   "source": [
    "n = int(input())\n",
    "a = 0\n",
    "b = 1\n",
    "\n",
    "for i in range(n):\n",
    "   a, b = b, a + b\n",
    "print(a)"
   ],
   "metadata": {
    "collapsed": false,
    "pycharm": {
     "name": "#%%\n"
    }
   }
  },
  {
   "cell_type": "markdown",
   "source": [
    "5 The Fibonacci sequence is defined as F[0] = 0, F[1] = 1, ..., F[n] = F[n-1] + F[n-2]. A natural number A is given. Write a program which determines its index in the sequence of Fibonacci numbers, i.e. prints a number n such that F[n] = A. If A is not a Fibonacci number, the program should print -1.\n",
    "I​nput\n",
    "An integer A ​is entered. It is assumed that a user inputs data properly, so the program does not need to check whether the input is correct.\n",
    "O​utput\n",
    "Print the solution of the problem.\n",
    "NB! Since A=1 has two solutions, print the index of its first occurrence in the Fibonacci sequence."
   ],
   "metadata": {
    "collapsed": false,
    "pycharm": {
     "name": "#%% md\n"
    }
   }
  },
  {
   "cell_type": "code",
   "execution_count": 93,
   "outputs": [
    {
     "name": "stdout",
     "output_type": "stream",
     "text": [
      "12\n"
     ]
    }
   ],
   "source": [
    "n = int(input())\n",
    "a = 0\n",
    "b = 1\n",
    "i = 0\n",
    "lst = []\n",
    "fib = []\n",
    "\n",
    "if n == 0:\n",
    "   print(0)\n",
    "elif n == 1:\n",
    "   print(1)\n",
    "else:\n",
    "   while a < n:\n",
    "      a, b = b, a + b\n",
    "      i += 1\n",
    "      lst.append(i)\n",
    "      fib.append(a)\n",
    "   if n == fib[-2] + fib[-3]:\n",
    "      print(lst[-1])\n",
    "   else:\n",
    "      print(-1)\n",
    "\n",
    "\n"
   ],
   "metadata": {
    "collapsed": false,
    "pycharm": {
     "name": "#%%\n"
    }
   }
  }
 ],
 "metadata": {
  "kernelspec": {
   "display_name": "Python 3",
   "language": "python",
   "name": "python3"
  },
  "language_info": {
   "codemirror_mode": {
    "name": "ipython",
    "version": 2
   },
   "file_extension": ".py",
   "mimetype": "text/x-python",
   "name": "python",
   "nbconvert_exporter": "python",
   "pygments_lexer": "ipython2",
   "version": "2.7.6"
  }
 },
 "nbformat": 4,
 "nbformat_minor": 0
}