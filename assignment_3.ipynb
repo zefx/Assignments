{
 "cells": [
  {
   "cell_type": "markdown",
   "source": [
    "1 Write a program that determines whether the year is a leap year. The program reads a natural number and prints on the screen YES if the year is a leap year, and NO otherwise. According to the Gregorian calendar, a year is a leap year if its number is a multiple of 4 but not a multiple of 100, or if it is a multiple of 400.\n",
    "\n",
    "I​nput\n",
    "\n",
    "A positive integer ​is entered. It is assumed that a user inputs data properly, so the program does not need to check whether the input is correct.\n",
    "\n",
    "O​utput\n",
    "\n",
    "Print the solution of the problem.\n",
    "\n"
   ],
   "metadata": {
    "collapsed": false,
    "pycharm": {
     "name": "#%% md\n"
    }
   }
  },
  {
   "cell_type": "code",
   "execution_count": 17,
   "outputs": [
    {
     "name": "stdout",
     "output_type": "stream",
     "text": [
      "YES\n"
     ]
    }
   ],
   "source": [
    "year = int(input())\n",
    "\n",
    "if year % 4 == 0 and year % 100 != 0 or year % 400 == 0:\n",
    "    print('YES')\n",
    "else:\n",
    "    print('NO')"
   ],
   "metadata": {
    "collapsed": false,
    "pycharm": {
     "name": "#%%\n"
    }
   }
  },
  {
   "cell_type": "markdown",
   "source": [
    "2 The chess bishop moves diagonally. Given two different squares of the chessboard, determine if the bishop can get from the first square to the second in one move.\n",
    "\n",
    "Input\n",
    "\n",
    "The program reads from input four numbers from 1 to 8 each, specifying the column and the line for the first cell and then for the second one. It is assumed that a user inputs data properly, so the program does not need to check whether the input is correct.\n",
    "\n",
    "O​utput\n",
    "\n",
    "P​rint the solution of the problem which is either 'YES' if the bishop can get from the first square to the second or 'NO' otherwise."
   ],
   "metadata": {
    "collapsed": false,
    "pycharm": {
     "name": "#%% md\n"
    }
   }
  },
  {
   "cell_type": "code",
   "execution_count": 31,
   "outputs": [
    {
     "name": "stdout",
     "output_type": "stream",
     "text": [
      "YES\n"
     ]
    }
   ],
   "source": [
    "cell_column_1 = input()\n",
    "cell_line_1 = input()\n",
    "cell_column_2 = input()\n",
    "cell_line_2 = input()\n",
    "\n",
    "number_1 = int(str(cell_column_1) + str(cell_line_1))\n",
    "number_2 = int(str(cell_column_2) + str(cell_line_2))\n",
    "subtr= number_1 -number_2\n",
    "\n",
    "if subtr  % 11 == 0 or subtr % 9 == 0:\n",
    "    print('YES')\n",
    "else:\n",
    "    print('NO')\n"
   ],
   "metadata": {
    "collapsed": false,
    "pycharm": {
     "name": "#%%\n"
    }
   }
  },
  {
   "cell_type": "markdown",
   "source": [
    "3 Have you ever watched Masterchef series? Aside from dish quality and plating, one of the most important things which chefs need to master to win is time management. Let's help them with that! Imagine you can place k scallops in the pan at the same time. Each scallop must be fried on each side m minutes continuously. What is the shortest time it takes to fry n scallops on both sides?\n",
    "\n",
    "I​nput\n",
    "\n",
    "The program reads three numbers - k, m and n - from the keyboard. It is assumed that a user inputs data properly, so the program does not need to check whether the input is correct.\n",
    "\n",
    "O​utput\n",
    "\n",
    "The program should print on the screen one number which is the smallest number of minutes."
   ],
   "metadata": {
    "collapsed": false,
    "pycharm": {
     "name": "#%% md\n"
    }
   }
  },
  {
   "cell_type": "code",
   "execution_count": 4,
   "outputs": [
    {
     "name": "stdout",
     "output_type": "stream",
     "text": [
      "48\n"
     ]
    }
   ],
   "source": [
    "k = int(input())\n",
    "m = int(input())\n",
    "n = int(input())\n",
    "\n",
    "if n <= k:\n",
    "    print (2 * m)\n",
    "else:\n",
    "    scallop_sides_all = n * 2\n",
    "    skillet_perf = scallop_sides_all // k + scallop_sides_all % k\n",
    "\n",
    "    minutes =  skillet_perf * m\n",
    "\n",
    "    print(minutes)\n"
   ],
   "metadata": {
    "collapsed": false,
    "pycharm": {
     "name": "#%%\n"
    }
   }
  },
  {
   "cell_type": "markdown",
   "source": [
    "4 Write a program that reads two integers A and B and prints on the screen the largest of them. If two numbers are equal, the program is supposed to print the number.\n",
    "\n",
    "I​nput\n",
    "\n",
    "Two integers A and B in a range from 1 to 1000 are entered. It is assumed that a user inputs data properly, so the program does not need to check whether the input is correct.\n",
    "\n",
    "O​utput\n",
    "\n",
    "Print the solution of the problem."
   ],
   "metadata": {
    "collapsed": false,
    "pycharm": {
     "name": "#%% md\n"
    }
   }
  },
  {
   "cell_type": "code",
   "execution_count": 1,
   "outputs": [
    {
     "name": "stdout",
     "output_type": "stream",
     "text": [
      "4\n"
     ]
    }
   ],
   "source": [
    "intA = int(input())\n",
    "intB = int(input())\n",
    "\n",
    "if intA >= intB:\n",
    "    print(intA)\n",
    "else:\n",
    "    print(intB)"
   ],
   "metadata": {
    "collapsed": false,
    "pycharm": {
     "name": "#%%\n"
    }
   }
  },
  {
   "cell_type": "markdown",
   "source": [
    "5 Write a program that reads three integers A, B, and C and prints on the screen the largest of them. If three numbers are equal, the program is supposed to print the number.\n",
    "\n",
    "I​nput\n",
    "\n",
    "Three integers A, B, and C are entered. It is assumed that a user inputs data properly, so the program does not need to check whether the input is correct.\n",
    "\n",
    "O​utput\n",
    "\n",
    "Print the solution of the problem."
   ],
   "metadata": {
    "collapsed": false,
    "pycharm": {
     "name": "#%% md\n"
    }
   }
  },
  {
   "cell_type": "code",
   "execution_count": 2,
   "outputs": [
    {
     "name": "stdout",
     "output_type": "stream",
     "text": [
      "100\n"
     ]
    }
   ],
   "source": [
    "intA = int(input())\n",
    "intB = int(input())\n",
    "intC = int(input())\n",
    "\n",
    "if intA >= intB:\n",
    "    if intA > intC:\n",
    "        print(intA)\n",
    "    else:\n",
    "        print(intC)\n",
    "elif intB >= intC:\n",
    "    print(intB)\n",
    "else:\n",
    "    print(intC)"
   ],
   "metadata": {
    "collapsed": false,
    "pycharm": {
     "name": "#%%\n"
    }
   }
  }
 ],
 "metadata": {
  "kernelspec": {
   "display_name": "Python 3",
   "language": "python",
   "name": "python3"
  },
  "language_info": {
   "codemirror_mode": {
    "name": "ipython",
    "version": 2
   },
   "file_extension": ".py",
   "mimetype": "text/x-python",
   "name": "python",
   "nbconvert_exporter": "python",
   "pygments_lexer": "ipython2",
   "version": "2.7.6"
  }
 },
 "nbformat": 4,
 "nbformat_minor": 0
}