{
 "cells": [
  {
   "cell_type": "markdown",
   "source": [
    "1 Two integers A and B are given (with A ≤ B). Print all integers in a range from A to B inclusive.\n",
    "I​nput\n",
    "Two integers A and B are entered. It is assumed that a user inputs data properly, so the program does not need to check whether the input is correct.\n",
    "O​utput\n",
    "Print the solution of the problem."
   ],
   "metadata": {
    "collapsed": false,
    "pycharm": {
     "name": "#%% md\n"
    }
   }
  },
  {
   "cell_type": "code",
   "execution_count": 3,
   "outputs": [
    {
     "name": "stdout",
     "output_type": "stream",
     "text": [
      "-10 -9 -8 -7 -6 -5 -4 -3 -2 -1 0 1 2 3 4 5 "
     ]
    }
   ],
   "source": [
    "a = int(input())\n",
    "b = int(input())\n",
    "\n",
    "for i in range(a, b+1):\n",
    "    print(i, end=' ')"
   ],
   "metadata": {
    "collapsed": false,
    "pycharm": {
     "name": "#%%\n"
    }
   }
  },
  {
   "cell_type": "markdown",
   "source": [
    "2 Two integers A and B are given. Print all integers in a range from A to B inclusive in ascending order if A <B, or in descending order otherwise.\n",
    "I​nput\n",
    "Two integers A and B are entered. It is assumed that a user inputs data properly, so the program does not need to check whether the input is correct.\n",
    "O​utput\n",
    "Print the solution of the problem."
   ],
   "metadata": {
    "collapsed": false,
    "pycharm": {
     "name": "#%% md\n"
    }
   }
  },
  {
   "cell_type": "code",
   "execution_count": 8,
   "outputs": [
    {
     "name": "stdout",
     "output_type": "stream",
     "text": [
      "15 14 13 12 11 "
     ]
    }
   ],
   "source": [
    "a = int(input())\n",
    "b = int(input())\n",
    "\n",
    "if a < b:\n",
    "    print(*range(a, b + 1), end=' ')\n",
    "else:\n",
    "    print(*range(a, b - 1, -1), end=' ')"
   ],
   "metadata": {
    "collapsed": false,
    "pycharm": {
     "name": "#%%\n"
    }
   }
  },
  {
   "cell_type": "markdown",
   "source": [
    "3 For a given natural number n, calculate the sum 1³ + 2³ + 3³ + ... + n³.\n",
    "I​nput\n",
    "A​ natural number n is entered. It is assumed that a user inputs data properly, so the program does not need to check whether the input is correct.\n",
    "O​utput\n",
    "Print the solution of the problem."
   ],
   "metadata": {
    "collapsed": false,
    "pycharm": {
     "name": "#%% md\n"
    }
   }
  },
  {
   "cell_type": "code",
   "execution_count": 10,
   "outputs": [
    {
     "name": "stdout",
     "output_type": "stream",
     "text": [
      "3025\n"
     ]
    }
   ],
   "source": [
    "n = int(input())\n",
    "sum = 0\n",
    "\n",
    "for i in range(n + 1):\n",
    "    sum += i ** 3\n",
    "\n",
    "print(sum)"
   ],
   "metadata": {
    "collapsed": false,
    "pycharm": {
     "name": "#%%\n"
    }
   }
  },
  {
   "cell_type": "markdown",
   "source": [
    "4 Calculate the value of n! for a given non-negative integer n.\n",
    "I​nput\n",
    "A non-negative integer n is entered. It is assumed that a user inputs data properly, so the program does not need to check whether the input is correct.\n",
    "O​utput\n",
    "Print the solution of the problem."
   ],
   "metadata": {
    "collapsed": false,
    "pycharm": {
     "name": "#%% md\n"
    }
   }
  },
  {
   "cell_type": "code",
   "execution_count": 15,
   "outputs": [
    {
     "name": "stdout",
     "output_type": "stream",
     "text": [
      "120\n"
     ]
    }
   ],
   "source": [
    "n = int(input())\n",
    "factorial = 1\n",
    "\n",
    "for i in range(n):\n",
    "    factorial *= (i + 1)\n",
    "\n",
    "print(factorial)"
   ],
   "metadata": {
    "collapsed": false,
    "pycharm": {
     "name": "#%%\n"
    }
   }
  },
  {
   "cell_type": "markdown",
   "source": [
    "5 For a given natural number n, calculate the sum 1! + 2! + 3! + ... + n!. Note that only one loop can be used in this task.\n",
    "I​nput\n",
    "A​ natural number n is entered. It is assumed that a user inputs data properly, so the program does not need to check whether the input is correct.\n",
    "O​utput\n",
    "Print the solution of the problem."
   ],
   "metadata": {
    "collapsed": false,
    "pycharm": {
     "name": "#%% md\n"
    }
   }
  },
  {
   "cell_type": "code",
   "execution_count": 17,
   "outputs": [
    {
     "name": "stdout",
     "output_type": "stream",
     "text": [
      "94269001683709979260859834124473539872070722613982672442938359305624678223479506023400294093599136466986609124347432647622826870038220556442336528920420940313\n"
     ]
    }
   ],
   "source": [
    "n = int(input())\n",
    "factorial = 1\n",
    "sum = 0\n",
    "\n",
    "for i in range(n):\n",
    "    factorial *= (i + 1)\n",
    "    sum += factorial\n",
    "\n",
    "print(sum)"
   ],
   "metadata": {
    "collapsed": false,
    "pycharm": {
     "name": "#%%\n"
    }
   }
  },
  {
   "cell_type": "markdown",
   "source": [
    "6 Write a program that prints n flags for a given number n from 1 to 9. The image of one flag has a size of 4 × 4 characters. There is also an empty column made of spaces between two adjacent flags. It is allowed to print an empty column after the last flag. Each flag must contain its number from 1 to n.\n",
    "I​nput\n",
    "A​ natural number n is entered. It is assumed that a user inputs data properly, so the program does not need to check whether the input is correct.\n",
    "O​utput\n",
    "Print the solution of the problem."
   ],
   "metadata": {
    "collapsed": false,
    "pycharm": {
     "name": "#%% md\n"
    }
   }
  },
  {
   "cell_type": "code",
   "execution_count": 46,
   "outputs": [
    {
     "name": "stdout",
     "output_type": "stream",
     "text": [
      "+___ +___ \n",
      "|1 / |2 / \n",
      "|__\\ |__\\ \n",
      "|    |    \n"
     ]
    }
   ],
   "source": [
    "n = int(input())\n",
    "\n",
    "print(n * '+___ ')\n",
    "for i in range(n):\n",
    "    print('|' + str(i+1) + ' / ', end='')\n",
    "print('')\n",
    "print(n * '|__\\\\ ')\n",
    "print(n * '|    ')\n"
   ],
   "metadata": {
    "collapsed": false,
    "pycharm": {
     "name": "#%%\n"
    }
   }
  },
  {
   "cell_type": "markdown",
   "source": [
    "7 Several numbers are given. Write a program which counts how many of them are equal to zero and print that amount.\n",
    "I​nput\n",
    "First, the number N is entered, and then exactly N integers are entered. It is assumed that a user inputs data properly, so the program does not need to check whether the input is correct.\n",
    "O​utput\n",
    "Print the solution of the problem."
   ],
   "metadata": {
    "collapsed": false,
    "pycharm": {
     "name": "#%% md\n"
    }
   }
  },
  {
   "cell_type": "code",
   "execution_count": 42,
   "outputs": [
    {
     "name": "stdout",
     "output_type": "stream",
     "text": [
      "2\n"
     ]
    }
   ],
   "source": [
    "n = int(input())\n",
    "i = 0\n",
    "k = 0\n",
    "\n",
    "for i in range(n):\n",
    "    num = int(input())\n",
    "    if num == 0:\n",
    "        k += 1\n",
    "    else:\n",
    "        continue\n",
    "\n",
    "print(k)\n"
   ],
   "metadata": {
    "collapsed": false,
    "pycharm": {
     "name": "#%%\n"
    }
   }
  },
  {
   "cell_type": "markdown",
   "source": [
    "8 A list of email addresses is given. Write a program which finds all emails with the domain '@gmail.com' and prints them on the screen.\n",
    "I​nput\n",
    "First, the number N is entered, and then exactly N email addresses are entered. It is assumed that a user inputs data properly, so the program does not need to check whether the input is correct.\n",
    "O​utput\n",
    "Print the solution of the problem."
   ],
   "metadata": {
    "collapsed": false,
    "pycharm": {
     "name": "#%% md\n"
    }
   }
  },
  {
   "cell_type": "code",
   "execution_count": 84,
   "outputs": [
    {
     "name": "stdout",
     "output_type": "stream",
     "text": [
      "qwe@gmail.com\n"
     ]
    }
   ],
   "source": [
    "n = int(input())\n",
    "email = []\n",
    "\n",
    "for i in range(n):\n",
    "    email.append(str(input()))\n",
    "\n",
    "for k in range(n):\n",
    "    if '@' in email[k] and email[k].split('@')[1] == 'gmail.com':\n",
    "            print(email[k])\n",
    "    else:\n",
    "        continue\n"
   ],
   "metadata": {
    "collapsed": false,
    "pycharm": {
     "name": "#%%\n"
    }
   }
  },
  {
   "cell_type": "markdown",
   "source": [
    "9 Write a Python program to create the multiplication table (from 1 to 10) of an entered integer n.\n",
    "I​nput\n",
    "An integer n is entered. It is assumed that a user inputs data properly, so the program does not need to check whether the input is correct.\n",
    "O​utput\n",
    "Print the solution of the problem."
   ],
   "metadata": {
    "collapsed": false,
    "pycharm": {
     "name": "#%% md\n"
    }
   }
  },
  {
   "cell_type": "code",
   "execution_count": 87,
   "outputs": [
    {
     "name": "stdout",
     "output_type": "stream",
     "text": [
      "5 x 1 = 5\n",
      "5 x 2 = 10\n",
      "5 x 3 = 15\n",
      "5 x 4 = 20\n",
      "5 x 5 = 25\n",
      "5 x 6 = 30\n",
      "5 x 7 = 35\n",
      "5 x 8 = 40\n",
      "5 x 9 = 45\n",
      "5 x 10 = 50\n"
     ]
    }
   ],
   "source": [
    "n = int(input())\n",
    "\n",
    "for i in range(1, 11):\n",
    "    print(n,'x', i,'=', i*n)"
   ],
   "metadata": {
    "collapsed": false,
    "pycharm": {
     "name": "#%%\n"
    }
   }
  },
  {
   "cell_type": "markdown",
   "source": [
    "10 Two four-digit numbers A and B are given. Output all four-digit numbers in the range from A to B, the record of which is a palindrome, i.e. a number or other sequence of characters which reads the same backward as forward.\n",
    "I​nput\n",
    "Two four-digit numbers A and B are given. It is assumed that a user inputs data properly, so the program does not need to check whether the input is correct.\n",
    "O​utput\n",
    "Print the solution of the problem. Note that if A and B are palindromes, the program prints them as well."
   ],
   "metadata": {
    "collapsed": false,
    "pycharm": {
     "name": "#%% md\n"
    }
   }
  },
  {
   "cell_type": "code",
   "execution_count": 98,
   "outputs": [
    {
     "name": "stdout",
     "output_type": "stream",
     "text": [
      "1001\n",
      "1111\n",
      "1221\n",
      "1331\n",
      "1441\n",
      "1551\n",
      "1661\n",
      "1771\n",
      "1881\n",
      "1991\n"
     ]
    }
   ],
   "source": [
    "a = int(input())\n",
    "b = int(input())\n",
    "lst = []\n",
    "i = 0\n",
    "\n",
    "while a <= b:\n",
    "    lst.append(a)\n",
    "    a += 1\n",
    "    i += 1\n",
    "\n",
    "for k in range(len(lst)):\n",
    "    if str(lst[k]) == str(lst[k])[::-1]:\n",
    "        print(lst[k])\n",
    "    else:\n",
    "        continue\n"
   ],
   "metadata": {
    "collapsed": false,
    "pycharm": {
     "name": "#%%\n"
    }
   }
  },
  {
   "cell_type": "markdown",
   "source": [
    "11 On the Internet, each computer is assigned a four-byte code which is usually written in the form of four numbers, each of which can take values from 0 to 255, separated by dots. Here are examples of correct IP addresses:\n",
    "127.0.0.0\n",
    "192.168.0.1\n",
    "255.0.255.255\n",
    "Write a program that determines if a given string is a valid IP address.\n",
    "I​nput\n",
    "The program reads a string of arbitrary characters entered from the keyboard as input. It is assumed that a user inputs data properly, so the program does not need to check whether the input is correct.\n",
    "O​utput\n",
    "Print the solution of the problem."
   ],
   "metadata": {
    "collapsed": false,
    "pycharm": {
     "name": "#%% md\n"
    }
   }
  },
  {
   "cell_type": "code",
   "execution_count": 112,
   "outputs": [
    {
     "name": "stdout",
     "output_type": "stream",
     "text": [
      "YES\n"
     ]
    }
   ],
   "source": [
    "ip = str(input())\n",
    "spltd = ip.split('.')\n",
    "\n",
    "for i in range(len(spltd)):\n",
    "    if int(spltd[i]) < 0 or int(spltd[i]) > 255 or len(spltd) > 4:\n",
    "        print('NO')\n",
    "        break\n",
    "else:\n",
    "    print('YES')\n",
    "\n"
   ],
   "metadata": {
    "collapsed": false,
    "pycharm": {
     "name": "#%%\n"
    }
   }
  }
 ],
 "metadata": {
  "kernelspec": {
   "display_name": "Python 3",
   "language": "python",
   "name": "python3"
  },
  "language_info": {
   "codemirror_mode": {
    "name": "ipython",
    "version": 2
   },
   "file_extension": ".py",
   "mimetype": "text/x-python",
   "name": "python",
   "nbconvert_exporter": "python",
   "pygments_lexer": "ipython2",
   "version": "2.7.6"
  }
 },
 "nbformat": 4,
 "nbformat_minor": 0
}