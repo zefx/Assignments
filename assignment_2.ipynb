{
 "cells": [
  {
   "cell_type": "markdown",
   "source": [
    "1. A positive real number X is given. Write a program which prints its first digit after the decimal point. Do not use conditional statements, loops, or strings to solve this problem.\n",
    "Input\n",
    "The program reads a positive real number X from the keyboard as input. It is assumed that a user inputs data properly, so the program does not need to check whether the input is correct.\n",
    "Output\n",
    "Print the solution of the problem."
   ],
   "metadata": {
    "collapsed": false,
    "pycharm": {
     "name": "#%% md\n"
    }
   }
  },
  {
   "cell_type": "code",
   "execution_count": 12,
   "outputs": [
    {
     "name": "stdout",
     "output_type": "stream",
     "text": [
      "3\n"
     ]
    }
   ],
   "source": [
    "x = float(input())\n",
    "decimal = x - int(x)\n",
    "number_1 = int(decimal * 10)\n",
    "print(number_1)"
   ],
   "metadata": {
    "collapsed": false,
    "pycharm": {
     "name": "#%%\n"
    }
   }
  },
  {
   "cell_type": "markdown",
   "source": [
    "2. Ivan has a deposit of X dollars and Y cents. The interest rate on the deposit is P percent per year, which is added to the deposit annually, i.e. the amount of the deposit is recalculated annually (recall the idea of compound interest rate). The fractional part of cents is discarded annually. Determine the size of the deposit in K years.\n",
    "I​nput\n",
    "Four integers - P, X, Y, K - are entered. It is assumed that a user inputs data properly, so the program does not need to check whether the input is correct.\n",
    "O​utput\n",
    "The program should print two numbers which show the amount of the deposit in K years where dollars and cents are separated by a space."
   ],
   "metadata": {
    "collapsed": false,
    "pycharm": {
     "name": "#%% md\n"
    }
   }
  },
  {
   "cell_type": "code",
   "execution_count": 1,
   "outputs": [
    {
     "name": "stdout",
     "output_type": "stream",
     "text": [
      "2 10\n"
     ]
    }
   ],
   "source": [
    "interest = int(input())\n",
    "dollars = int(input())\n",
    "cents = int(input())\n",
    "years = int(input())\n",
    "\n",
    "cents_only = 100 * dollars + cents  # all to cents only\n",
    "\n",
    "for i in range(years):\n",
    "    cents_only += int(cents_only * interest / 100)\n",
    "\n",
    "print(cents_only // 100, cents_only % 100)\n"
   ],
   "metadata": {
    "collapsed": false,
    "pycharm": {
     "name": "#%%\n"
    }
   }
  },
  {
   "cell_type": "markdown",
   "source": [
    "3. The lengths of the sides of the triangle are given. Write a program which calculates the area of the triangle.\n",
    "I​nput\n",
    "Three positive numbers are entered. It is assumed that a user inputs data properly, so the program does not need to check whether the input is correct.\n",
    "O​utput\n",
    "Print the solution of the problem. Round the result to 5 decimal places."
   ],
   "metadata": {
    "collapsed": false,
    "pycharm": {
     "name": "#%% md\n"
    }
   }
  },
  {
   "cell_type": "code",
   "execution_count": 3,
   "outputs": [
    {
     "name": "stdout",
     "output_type": "stream",
     "text": [
      "6\n"
     ]
    }
   ],
   "source": [
    "a = float(input())\n",
    "b = float(input())\n",
    "c = float(input())\n",
    "p = (a + b + c) / 2\n",
    "s = (p * (p - a) * (p - b) * (p - c)) ** 0.5\n",
    "if s - int(s) == 0:\n",
    "    print(int(s));\n",
    "else:\n",
    "    print(round(float(s), 5))"
   ],
   "metadata": {
    "collapsed": false,
    "pycharm": {
     "name": "#%%\n"
    }
   }
  }
 ],
 "metadata": {
  "kernelspec": {
   "display_name": "Python 3",
   "language": "python",
   "name": "python3"
  },
  "language_info": {
   "codemirror_mode": {
    "name": "ipython",
    "version": 2
   },
   "file_extension": ".py",
   "mimetype": "text/x-python",
   "name": "python",
   "nbconvert_exporter": "python",
   "pygments_lexer": "ipython2",
   "version": "2.7.6"
  }
 },
 "nbformat": 4,
 "nbformat_minor": 0
}