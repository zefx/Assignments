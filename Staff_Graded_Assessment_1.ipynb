{
 "cells": [
  {
   "cell_type": "markdown",
   "source": [
    "### 1. Ticket Aggregator code using step 1 from the brief"
   ],
   "metadata": {
    "collapsed": false,
    "pycharm": {
     "name": "#%% md\n"
    }
   }
  },
  {
   "cell_type": "code",
   "execution_count": 29,
   "outputs": [
    {
     "name": "stdout",
     "output_type": "stream",
     "text": [
      "The best offer!\n"
     ]
    }
   ],
   "source": [
    "# Checking input correctness for price\n",
    "#==========================================================================================\n",
    "while True:\n",
    "    try:\n",
    "        price_input = input('Input ticket price in $ and hit Enter: ')\n",
    "        price = int(price_input)\n",
    "    except ValueError:\n",
    "        print(f'{price_input} is not a number. Please enter price in $.')\n",
    "        continue\n",
    "    if price < 0:\n",
    "        print('Please enter positive number.')\n",
    "        continue\n",
    "    else:\n",
    "        break\n",
    "\n",
    "# Checking input correctness for transfers\n",
    "#==========================================================================================\n",
    "while True:\n",
    "    try:\n",
    "        transfers_input = input('Input number of transfers and hit Enter: ')\n",
    "        transfers = int(transfers_input)\n",
    "    except ValueError:\n",
    "        print(f'{transfers_input} is not a number. Please enter price in $.')\n",
    "        continue\n",
    "    if transfers < 0:\n",
    "        print('Please enter positive number.')\n",
    "        continue\n",
    "    else:\n",
    "        break\n",
    "\n",
    "# Checking input correctness for refund\n",
    "#==========================================================================================\n",
    "refund_options = ['YES', 'NO']\n",
    "while True:\n",
    "    refund = input('Is refund included? Input YES or NO and hit Enter: ')\n",
    "    if refund in refund_options:\n",
    "        break\n",
    "    else:\n",
    "        print('Your input is not correct.')\n",
    "\n",
    "# Checking input correctness for luggage\n",
    "#==========================================================================================\n",
    "luggage_options = ['YES', 'NO']\n",
    "while True:\n",
    "    luggage = input('Is luggage included? Input YES or NO and hit Enter: ')\n",
    "    if luggage in luggage_options:\n",
    "        break\n",
    "    else:\n",
    "        print('Your input is not correct.')\n",
    "\n",
    "# Defining categorisation according to the brief\n",
    "#==========================================================================================\n",
    "if (0 <= price < 200) and (transfers <= 1) and (refund == 'YES') and (luggage == 'YES'):\n",
    "    print('The best offer!')\n",
    "elif (200 <= price <= 250) and (transfers <= 2) and (refund == 'YES' or 'NO') and (luggage == 'YES' or 'NO'):\n",
    "    print('Good enough.')\n",
    "elif (price > 250) and (transfers >= 3) and (refund == 'YES' or 'NO') and (luggage == 'YES' or 'NO'):\n",
    "    print('The worst offer!')\n",
    "else:\n",
    "    print('Other category.')\n",
    "\n"
   ],
   "metadata": {
    "collapsed": false,
    "pycharm": {
     "name": "#%%\n"
    }
   }
  },
  {
   "cell_type": "markdown",
   "source": [
    "### 2. Analyzing aggregator's advantages and disadvantages.\n",
    "\n",
    "The above aggregator logic is very limited to strict criteria and does not include many variants into proper categories, only into \"Other\", which is not very helpful or informative. Critaria does not include other important items, like food, etc. As the only advantage - this is pretty simple."
   ],
   "metadata": {
    "collapsed": false,
    "pycharm": {
     "name": "#%% md\n"
    }
   }
  },
  {
   "cell_type": "markdown",
   "source": [
    "### 3. One of alternative approaches with code\n",
    "\n",
    "   As alternate approach I would use more criteria with their weight. Trying not to overcomplicate the approach, so let's assume that the below\n",
    "criteria are limited to the below table with their weights and the below descriptions.\n",
    "As we are discussing Moscow - New York flights only, then for such long trips food and luggage will have more weight than refund\n",
    "(such flights are mostly not very spontaneous) or online registration. The below approach is for approach illustration mostly and we can\n",
    "analyze weights correctness and add other criteria further, this time lets keep the listed only.\n",
    "\n",
    "Lets use similar categories for the ticket classification - Good, Normal and Bad.\n",
    "\n",
    "#### Criteria\n",
    "\n",
    "1. Price - the most important criteria with the most weight, lets assume its maximum weight 40%\n",
    "2. Transfers - the fewer transfers for such a long trip - the better, lets assume its maximum weight 20%\n",
    "3. Luggage - will be preferable for long flight, weight is 15% or 0 if not included.\n",
    "4. Food - is important for 9+ hours flights, assume weight 10% or 0 not included.\n",
    "5. Refund is great, but not very important, assume weight 10% or 0 if not included.\n",
    "6. Online registration with place selection - weight 5% or 0 if not included.\n",
    "\n",
    "#### Table with relative weights\n",
    "========================================\n",
    "\n",
    "Lets assume that we normalize maximum value for Good option to 3 as maximum (cheapest price, 0 transfers, and per our classification Good option will follow into interval (2:3], Normal\n",
    "will be (1;2], and Bad below 1.\n",
    "\n",
    "\n",
    "Max weight for above ranges are below:\n",
    "\n",
    "| Classification | Price  | Transfers |\n",
    "|:----------|:----------|:----------|\n",
    "| Weight in %  | 40    | 20  |\n",
    "|Good = max 3   | 1.2   | 0.6    |\n",
    "|Normal = max 2    | 0.8    | 0.4    |\n",
    "| Bad = max 1  | 0.4   | 0.2   |\n",
    "\n",
    "\n",
    "For weights of the remaining options - Luggage, Food, Refund, Online registration we have 2 options - Yes or Not\n",
    "\n",
    "\n",
    "| Classification | Luggage | Food | Refund | Online registration |\n",
    "|:----------|:----------|:----------|:----------|:----------|\n",
    "| Weight in %  | 15    | 10   | 10   | 5   |\n",
    "|Normalized to number 3   | 0.45 or 0    | 0.3 or 0    | 0.3 or 0   | 0.15 or 0   |\n",
    "\n",
    "\n",
    "#### Table for Good, Normal and Bad ticket criteria for Price and Transfers:\n",
    "========================================\n",
    "\n",
    "Lets left prices ranges for classification the same as in initial brief, will change Good option for Transfers to 0 only:\n",
    "\n",
    "\n",
    "| Classification | Price in USD  | Transfers |\n",
    "|:----------|:----------|:----------|\n",
    "| Good   | less than 200   | 0    |\n",
    "| Medium   |from 200 to 250 not included    | 1-2 |\n",
    "| Bad    | from 250 | 3 or more   |\n",
    "\n",
    "\n",
    "#### Code description\n",
    "\n",
    "Users should enter all 6 criterias and according to their weights will receive classification as described. Will include input correctes into the code as well.\n",
    "\n",
    "1. Price - int number of $\n",
    "2. Transfers - int number of transfers\n",
    "3. Luggage - YES or NO\n",
    "4. Food - YES or NO\n",
    "5. Refund - YES or NO\n",
    "6. Online registration - YES or NO\n",
    "\n"
   ],
   "metadata": {
    "collapsed": false,
    "pycharm": {
     "name": "#%% md\n"
    }
   }
  },
  {
   "cell_type": "code",
   "execution_count": 34,
   "outputs": [
    {
     "name": "stdout",
     "output_type": "stream",
     "text": [
      "Good option!\n",
      "2.8\n"
     ]
    }
   ],
   "source": [
    "# Checking input correctness for price\n",
    "#==========================================================================================\n",
    "while True:\n",
    "    try:\n",
    "        price_input = input('Input ticket price in $ and hit Enter: ')\n",
    "        price = int(price_input)\n",
    "    except ValueError:\n",
    "        print(f'{price_input} is not a number. Please enter price in $.')\n",
    "        continue\n",
    "    if price < 0:\n",
    "        print('Please enter positive number.')\n",
    "        continue\n",
    "    else:\n",
    "        break\n",
    "\n",
    "# Checking input correctness for transfers\n",
    "#==========================================================================================\n",
    "while True:\n",
    "    try:\n",
    "        transfers_input = input('Input number of transfers and hit Enter: ')\n",
    "        transfers = int(transfers_input)\n",
    "    except ValueError:\n",
    "        print(f'{transfers_input} is not a number. Please enter price in $.')\n",
    "        continue\n",
    "    if transfers < 0:\n",
    "        print('Please enter positive number.')\n",
    "        continue\n",
    "    else:\n",
    "        break\n",
    "\n",
    "# Checking input correctness for refund\n",
    "#==========================================================================================\n",
    "refund_options = ['YES', 'NO']\n",
    "while True:\n",
    "    refund = input('Is refund included? Input YES or NO and hit Enter: ')\n",
    "    if refund in refund_options:\n",
    "        if refund == refund_options[0]:\n",
    "            refund = 0.3\n",
    "        else:\n",
    "            refund = 0\n",
    "        break\n",
    "    else:\n",
    "        print('Your input is not correct.')\n",
    "\n",
    "# Checking input correctness for luggage\n",
    "#==========================================================================================\n",
    "luggage_options = ['YES', 'NO']\n",
    "while True:\n",
    "    luggage = input('Is luggage included? Input YES or NO and hit Enter: ')\n",
    "    if luggage in luggage_options:\n",
    "        if luggage == luggage_options[0]:\n",
    "            luggage = 0.45\n",
    "        else:\n",
    "            luggage = 0\n",
    "        break\n",
    "    else:\n",
    "        print('Your input is not correct.')\n",
    "\n",
    "# Checking input correctness for food\n",
    "#==========================================================================================\n",
    "food_options = ['YES', 'NO']\n",
    "while True:\n",
    "    food = input('Is food included? Input YES or NO and hit Enter: ')\n",
    "    if food in food_options:\n",
    "        if food == food_options[0]:\n",
    "            food = 0.3\n",
    "        else:\n",
    "            food = 0\n",
    "        break\n",
    "    else:\n",
    "        print('Your input is not correct.')\n",
    "\n",
    "# Checking input correctness for online registration\n",
    "#==========================================================================================\n",
    "o_reg_options = ['YES', 'NO']\n",
    "while True:\n",
    "    o_reg = input('Is online registration included? Input YES or NO and hit Enter: ')\n",
    "    if o_reg in o_reg_options:\n",
    "        if o_reg == o_reg_options[0]:\n",
    "            o_reg = 0.15\n",
    "        else:\n",
    "            o_reg = 0\n",
    "        break\n",
    "    else:\n",
    "        print('Your input is not correct.')\n",
    "\n",
    "# Calculating weighting coefficients for Price and Transfer\n",
    "#==========================================================================================\n",
    "if price < 200:\n",
    "    price_coeff = 1.2\n",
    "elif 200 <= price < 300:\n",
    "    price_coeff = 0.8\n",
    "else:\n",
    "    price_coeff = 0.4\n",
    "\n",
    "if transfers == 0:\n",
    "    transf_coeff = 0.6\n",
    "elif transfers == 1 or 2:\n",
    "    transf_coeff = 0.4\n",
    "else:\n",
    "    transf_coeff = 0.2\n",
    "\n",
    "# Defining categorisation according to the brief\n",
    "#==========================================================================================\n",
    "categorization = price_coeff + transf_coeff + refund + luggage + food + o_reg\n",
    "\n",
    "if 2 < categorization <= 3:\n",
    "    print('Good option!')\n",
    "elif 1 < categorization <= 2:\n",
    "    print('Normal.')\n",
    "else:\n",
    "    print('Bad!')\n",
    "print(categorization)"
   ],
   "metadata": {
    "collapsed": false,
    "pycharm": {
     "name": "#%%\n"
    }
   }
  },
  {
   "cell_type": "markdown",
   "source": [
    "Of course the above approach need more analysis about weights distribution, classifications ranges and more classifications can be added,\n",
    "but I've tried to use only those instruments we had to the date in this course and I think with functions this code can be simplified and\n",
    "extended with more detailed analysis."
   ],
   "metadata": {
    "collapsed": false,
    "pycharm": {
     "name": "#%% md\n"
    }
   }
  }
 ],
 "metadata": {
  "kernelspec": {
   "display_name": "Python 3",
   "language": "python",
   "name": "python3"
  },
  "language_info": {
   "codemirror_mode": {
    "name": "ipython",
    "version": 2
   },
   "file_extension": ".py",
   "mimetype": "text/x-python",
   "name": "python",
   "nbconvert_exporter": "python",
   "pygments_lexer": "ipython2",
   "version": "2.7.6"
  }
 },
 "nbformat": 4,
 "nbformat_minor": 0
}