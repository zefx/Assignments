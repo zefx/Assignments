{
 "cells": [
  {
   "cell_type": "markdown",
   "source": [
    "1 Write a program that calculates a factorial of a given number and prints it on the screen. Keep in mind that you are supposed to use recursion to solve this task.\n",
    "\n",
    "Input\n",
    "\n",
    "An integer is entered. It is assumed that a user inputs data properly, so the program does not need to check whether the input is correct.\n",
    "\n",
    "Output\n",
    "\n",
    "Print the solution for the problem."
   ],
   "metadata": {
    "collapsed": false,
    "pycharm": {
     "name": "#%% md\n"
    }
   }
  },
  {
   "cell_type": "code",
   "execution_count": 4,
   "outputs": [
    {
     "name": "stdout",
     "output_type": "stream",
     "text": [
      "40320\n"
     ]
    }
   ],
   "source": [
    "def factorial(n):\n",
    "    if n == 0:\n",
    "        return 1\n",
    "    return n*factorial(n-1)\n",
    "\n",
    "print(factorial(int(input())))\n"
   ],
   "metadata": {
    "collapsed": false,
    "pycharm": {
     "name": "#%%\n"
    }
   }
  },
  {
   "cell_type": "markdown",
   "source": [
    "2 Write a program that calculates a sum of digits of any natural number and prints it on the screen. You are supposed to use recursion to solve this task.\n",
    "\n",
    "I​nput\n",
    "\n",
    "A natural number is given. It is assumed that a user inputs data properly, so the program does not need to check whether the input is correct.\n",
    "\n",
    "O​utput\n",
    "\n",
    "Print the solution of the problem."
   ],
   "metadata": {
    "collapsed": false,
    "pycharm": {
     "name": "#%% md\n"
    }
   }
  },
  {
   "cell_type": "code",
   "execution_count": 6,
   "outputs": [
    {
     "name": "stdout",
     "output_type": "stream",
     "text": [
      "15\n"
     ]
    }
   ],
   "source": [
    "def sum(num):\n",
    "    if num == 0:\n",
    "        return 0\n",
    "    return (num % 10 + sum(int(num/10)))\n",
    "\n",
    "print(sum(int(input())))"
   ],
   "metadata": {
    "collapsed": false,
    "pycharm": {
     "name": "#%%\n"
    }
   }
  },
  {
   "cell_type": "markdown",
   "source": [
    "3 Write a recursive function sum(a, b) that returns the sum of two non-negative integers. Of all the arithmetic operations, only +1 and -1 are allowed. You also can't use loops.\n",
    "\n",
    "I​nput\n",
    "\n",
    "T​wo integers a and b are given. It is assumed that a user inputs data properly, so the program does not need to check whether the input is correct.\n",
    "\n",
    "O​utput\n",
    "\n",
    "P​rint the solution for the task."
   ],
   "metadata": {
    "collapsed": false,
    "pycharm": {
     "name": "#%% md\n"
    }
   }
  },
  {
   "cell_type": "code",
   "execution_count": 15,
   "outputs": [
    {
     "name": "stdout",
     "output_type": "stream",
     "text": [
      "18\n"
     ]
    }
   ],
   "source": [
    "def sumq(a,b):\n",
    "    if b == 0:\n",
    "        return a\n",
    "    return sumq(a+1, b-1)\n",
    "\n",
    "print(sumq(int(input()), int(input())))"
   ],
   "metadata": {
    "collapsed": false,
    "pycharm": {
     "name": "#%%\n"
    }
   }
  },
  {
   "cell_type": "markdown",
   "source": [
    "4 Write a function phib(n) that returns the n-th Fibonacci number for a given non-negative integer n. Do not use loops in this task, use recursion instead.\n",
    "\n",
    "I​nput\n",
    "\n",
    "A​ positive integer n is given. It is assumed that a user inputs data properly, so the program does not need to check whether the input is correct.\n",
    "\n",
    "O​utput\n",
    "\n",
    "P​rint the solution for the task.\n",
    "\n"
   ],
   "metadata": {
    "collapsed": false,
    "pycharm": {
     "name": "#%% md\n"
    }
   }
  },
  {
   "cell_type": "code",
   "execution_count": 17,
   "outputs": [
    {
     "name": "stdout",
     "output_type": "stream",
     "text": [
      "354224848179261915075\n"
     ]
    }
   ],
   "source": [
    "from functools import lru_cache  # cheat method of caching here\n",
    "\n",
    "@lru_cache()\n",
    "def phib(n):\n",
    "    if n == 0:\n",
    "        return 0\n",
    "    if n == 1:\n",
    "        return 1\n",
    "    return phib(n-1) + phib(n-2)\n",
    "\n",
    "print(phib(int(input())))"
   ],
   "metadata": {
    "collapsed": false,
    "pycharm": {
     "name": "#%%\n"
    }
   }
  }
 ],
 "metadata": {
  "kernelspec": {
   "display_name": "Python 3",
   "language": "python",
   "name": "python3"
  },
  "language_info": {
   "codemirror_mode": {
    "name": "ipython",
    "version": 2
   },
   "file_extension": ".py",
   "mimetype": "text/x-python",
   "name": "python",
   "nbconvert_exporter": "python",
   "pygments_lexer": "ipython2",
   "version": "2.7.6"
  }
 },
 "nbformat": 4,
 "nbformat_minor": 0
}