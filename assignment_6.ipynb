{
 "cells": [
  {
   "cell_type": "markdown",
   "source": [
    "1 Write a program which prints all elements of the list with even indices, i.e. which are L[0], L[2], L[4], ....\n",
    "\n",
    "I​nput\n",
    "\n",
    "A list of random elements is entered. All elements are passed to the program as a single string of elements separated by spaces. It is assumed that a user inputs data properly, so the program does not need to check whether the input is correct.\n",
    "\n",
    "O​utput\n",
    "\n",
    "Print the solution of the problem."
   ],
   "metadata": {
    "collapsed": false,
    "pycharm": {
     "name": "#%% md\n"
    }
   }
  },
  {
   "cell_type": "code",
   "execution_count": 5,
   "outputs": [
    {
     "name": "stdout",
     "output_type": "stream",
     "text": [
      "1 3 5\n"
     ]
    }
   ],
   "source": [
    "inp_data = input()\n",
    "\n",
    "print(*inp_data.split(' ')[::2])\n"
   ],
   "metadata": {
    "collapsed": false,
    "pycharm": {
     "name": "#%%\n"
    }
   }
  },
  {
   "cell_type": "markdown",
   "source": [
    "2 A list of integers is entered. Print the value of the largest element in the list, and then the index of that element in the list. If there are several largest elements, print the index of the first of them.\n",
    "\n",
    "I​nput\n",
    "\n",
    "A list of integers is entered. All numbers are entered from the keyboard as a one line. It is assumed that a user inputs data properly, so the program does not need to check whether the input is correct.\n",
    "\n",
    "O​utput\n",
    "\n",
    "Print the solution of the problem."
   ],
   "metadata": {
    "collapsed": false,
    "pycharm": {
     "name": "#%% md\n"
    }
   }
  },
  {
   "cell_type": "code",
   "execution_count": 1,
   "outputs": [
    {
     "name": "stdout",
     "output_type": "stream",
     "text": [
      "6 3\n"
     ]
    }
   ],
   "source": [
    "inp_data = [int(x) for x in input().split()]\n",
    "srtd = sorted(inp_data)\n",
    "print(srtd[-1], end=' ')\n",
    "print(inp_data.index(srtd[-1]))"
   ],
   "metadata": {
    "collapsed": false,
    "pycharm": {
     "name": "#%%\n"
    }
   }
  },
  {
   "cell_type": "markdown",
   "source": [
    "3 A list of numbers and the index k of an element in the list are given. Remove the element with index k from the list by moving to the left all elements which are right from the element with index k. The program gets a list as an input, and then the number k. The program rearranges all the elements, and then removes the last element of the list using the pop() method. The program should change the order of elements right in the list, not do it while printing elements. Note that you are not supposed to use an additional list.\n",
    "\n",
    "I​nput\n",
    "\n",
    "A list of numbers is entered. All numbers are entered from the keyboard as a one line. Then, an integer k is entered. It is assumed that a user inputs data properly, so the program does not need to check whether the input is correct.\n",
    "\n",
    "O​utput\n",
    "\n",
    "Print the solution of the problem."
   ],
   "metadata": {
    "collapsed": false,
    "pycharm": {
     "name": "#%% md\n"
    }
   }
  },
  {
   "cell_type": "code",
   "execution_count": 20,
   "outputs": [
    {
     "name": "stdout",
     "output_type": "stream",
     "text": [
      "1 2 3 4 6 7\n"
     ]
    }
   ],
   "source": [
    "inp_data = [int(x) for x in input().split()]\n",
    "k = int(input())\n",
    "\n",
    "inp_data.append(k)\n",
    "del inp_data[k]\n",
    "inp_data.pop(-1)\n",
    "\n",
    "print(*inp_data)\n",
    "\n"
   ],
   "metadata": {
    "collapsed": false,
    "pycharm": {
     "name": "#%%\n"
    }
   }
  },
  {
   "cell_type": "markdown",
   "source": [
    "4 A list of integers, a number k, and a value C are given. Write a program which inserts an element equal to C into the list at the position with index k, shifting all elements with index more than k to the right. The program must insert this new value in the entered list, not doing this while printing it, and without the use of an additional list.\n",
    "\n",
    "I​nput\n",
    "\n",
    "A list of numbers is entered. All numbers are entered from the keyboard as a one line. Then, integers k and C are entered in a single line. It is assumed that a user inputs data properly, so the program does not need to check whether the input is correct.\n",
    "\n",
    "O​utput\n",
    "\n",
    "Print the solution of the problem."
   ],
   "metadata": {
    "collapsed": false,
    "pycharm": {
     "name": "#%% md\n"
    }
   }
  },
  {
   "cell_type": "code",
   "execution_count": 24,
   "outputs": [
    {
     "name": "stdout",
     "output_type": "stream",
     "text": [
      "1 2 22 3 4 5 6\n"
     ]
    }
   ],
   "source": [
    "inp_data = [int(x) for x in input().split()]\n",
    "kC = [int(x) for x in input().split()]\n",
    "\n",
    "inp_data.insert(kC[0], kC[1])\n",
    "\n",
    "print(*inp_data)"
   ],
   "metadata": {
    "collapsed": false,
    "pycharm": {
     "name": "#%%\n"
    }
   }
  },
  {
   "cell_type": "markdown",
   "source": [
    "5 A list sorted in non-decreasing order of elements is given. Write a program which determines how many unique elements there are.\n",
    "\n",
    "I​nput\n",
    "\n",
    "A nonempty list of numbers is entered. All numbers are entered from the keyboard as a one line. It is assumed that a user inputs data properly, so the program does not need to check whether the input is correct.\n",
    "\n",
    "O​utput\n",
    "\n",
    "Print the solution of the problem.\n",
    "\n"
   ],
   "metadata": {
    "collapsed": false,
    "pycharm": {
     "name": "#%% md\n"
    }
   }
  },
  {
   "cell_type": "code",
   "execution_count": 29,
   "outputs": [
    {
     "name": "stdout",
     "output_type": "stream",
     "text": [
      "4\n"
     ]
    }
   ],
   "source": [
    "inp_data = [int(x) for x in input().split()]\n",
    "\n",
    "print(len(set(inp_data)))"
   ],
   "metadata": {
    "collapsed": false,
    "pycharm": {
     "name": "#%%\n"
    }
   }
  },
  {
   "cell_type": "markdown",
   "source": [
    "6 A list is given. Write a program which prints those elements of the list which appear in the list only once. These elements should be printed in the order in which they appear in the list.\n",
    "\n",
    "I​nput\n",
    "\n",
    "A list of numbers is entered. All numbers are entered from the keyboard as a one line. It is assumed that a user inputs data properly, so the program does not need to check whether the input is correct.\n",
    "\n",
    "O​utput\n",
    "\n",
    "Print the solution of the problem."
   ],
   "metadata": {
    "collapsed": false,
    "pycharm": {
     "name": "#%% md\n"
    }
   }
  },
  {
   "cell_type": "code",
   "execution_count": 31,
   "outputs": [
    {
     "name": "stdout",
     "output_type": "stream",
     "text": [
      "1 3 5\n"
     ]
    }
   ],
   "source": [
    "inp_data = [int(x) for x in input().split()]\n",
    "res_list = []\n",
    "\n",
    "for i in range(len(inp_data)):\n",
    "    counter = 0\n",
    "    for j in range(len(inp_data)):\n",
    "        if inp_data[i] == inp_data[j]:\n",
    "            counter +=1\n",
    "        else:\n",
    "            continue\n",
    "    if counter == 1:\n",
    "        res_list.append(inp_data[i])\n",
    "\n",
    "print(*res_list)"
   ],
   "metadata": {
    "collapsed": false,
    "pycharm": {
     "name": "#%%\n"
    }
   }
  },
  {
   "cell_type": "markdown",
   "source": [
    "7 Ivan decided to enroll in a swimming course. Before the start of the lesson, swimmers line up in height from highest to lowest. Ivan needs to determine his place in the line. Help him do it!\n",
    "\n",
    "I​nput\n",
    "\n",
    "The program reads as input a non-increasing sequence of natural numbers entered from the keyboard. Each number is a height of a person in the line. Then, the number X is entered, which is the Ivan's height. All numbers are positive integers which do not exceed 200. It is assumed that a user inputs data properly, so the program does not need to check whether the input is correct.\n",
    "\n",
    "O​utput\n",
    "\n",
    "Print the number under which Ivan should stand in a line. If there are people in the line with the same height as Ivan's, then he must stand after them."
   ],
   "metadata": {
    "collapsed": false,
    "pycharm": {
     "name": "#%% md\n"
    }
   }
  },
  {
   "cell_type": "code",
   "execution_count": 32,
   "outputs": [
    {
     "name": "stdout",
     "output_type": "stream",
     "text": [
      "3\n"
     ]
    }
   ],
   "source": [
    "inp_data = [int(x) for x in input().split()]\n",
    "Ivan_height = int(input())\n",
    "i = 0\n",
    "\n",
    "while inp_data[i] >= Ivan_height:\n",
    "    i +=1\n",
    "print(i + 1)"
   ],
   "metadata": {
    "collapsed": false,
    "pycharm": {
     "name": "#%%\n"
    }
   }
  },
  {
   "cell_type": "markdown",
   "source": [
    "8 There is an interesting fact in chess that 8 queens can be placed on an 8 × 8 board so that they do not beat each other. Write a program which gets the arrangement of 8 queens on the board and determines if there is a pair of them beating each other.\n",
    "\n",
    "I​nput\n",
    "\n",
    "Eight pairs of numbers are entered, which are is the coordinates of 8 queens. It is assumed that a user inputs data properly, so the program does not need to check whether the input is correct.\n",
    "\n",
    "O​utput\n",
    "\n",
    "If queens do not beat each other, print the word NO, otherwise print YES."
   ],
   "metadata": {
    "collapsed": false,
    "pycharm": {
     "name": "#%% md\n"
    }
   }
  },
  {
   "cell_type": "code",
   "execution_count": 99,
   "outputs": [
    {
     "name": "stdout",
     "output_type": "stream",
     "text": [
      "YES\n"
     ]
    }
   ],
   "source": [
    "# overall logic here with mistajes as we have artifacts like 61 - 17 = 44 and 72, need to redo\n",
    "\n",
    "inputs = []\n",
    "res_list_X = []\n",
    "res_list_Y = []\n",
    "count = 0\n",
    "\n",
    "for i in range(8):\n",
    "    inputs = [str(x) for x in input().split()]\n",
    "    res_list_X.append(inputs[0])\n",
    "    res_list_Y.append(inputs[1])\n",
    "\n",
    "if len(res_list_X) > len(set(res_list_X)):\n",
    "    count += 1\n",
    "elif len(res_list_Y) > len(set(res_list_Y)):\n",
    "    count += 1\n",
    "\n",
    "for i in range(len(res_list_X)):\n",
    "    for j in range(len(res_list_X)):\n",
    "        subtr = int(res_list_X[i] + res_list_Y[i]) - int(res_list_X[j] + res_list_Y[j])\n",
    "        if subtr != 0 and subtr != 44 and subtr != -44 and subtr != 72 and subtr != -72 and (subtr % 11 == 0 or subtr % 9 == 0):\n",
    "             count += 1\n",
    "        else:\n",
    "            continue\n",
    "\n",
    "if count > 0:\n",
    "    print('YES')\n",
    "else:\n",
    "    print('NO')"
   ],
   "metadata": {
    "collapsed": false,
    "pycharm": {
     "name": "#%%\n"
    }
   }
  },
  {
   "cell_type": "markdown",
   "source": [
    "9 Create a list of numbers from 10 to 20 using list comprehensions.\n",
    "\n",
    "Input\n",
    "\n",
    "N​o input is needed for this task.\n",
    "\n",
    "O​utput\n",
    "\n",
    "P​rint a list object on the screen."
   ],
   "metadata": {
    "collapsed": false,
    "pycharm": {
     "name": "#%% md\n"
    }
   }
  },
  {
   "cell_type": "code",
   "execution_count": 102,
   "outputs": [
    {
     "name": "stdout",
     "output_type": "stream",
     "text": [
      "[10, 11, 12, 13, 14, 15, 16, 17, 18, 19, 20]\n"
     ]
    }
   ],
   "source": [
    "lst = [i for i in range(10,21)]\n",
    "print(lst)"
   ],
   "metadata": {
    "collapsed": false,
    "pycharm": {
     "name": "#%%\n"
    }
   }
  },
  {
   "cell_type": "markdown",
   "source": [
    "10 Create a list of numbers divisible by 3 in the range from 10 to 50 using list comprehensions.\n",
    "\n",
    "Input\n",
    "\n",
    "N​o input is needed for this task.\n",
    "\n",
    "O​utput\n",
    "\n",
    "P​rint a list object on the screen."
   ],
   "metadata": {
    "collapsed": false,
    "pycharm": {
     "name": "#%% md\n"
    }
   }
  },
  {
   "cell_type": "code",
   "execution_count": 105,
   "outputs": [
    {
     "name": "stdout",
     "output_type": "stream",
     "text": [
      "[12, 15, 18, 21, 24, 27, 30, 33, 36, 39, 42, 45, 48]\n"
     ]
    }
   ],
   "source": [
    "lst = [i for i in range(10, 51) if i % 3 == 0]\n",
    "print(lst)"
   ],
   "metadata": {
    "collapsed": false,
    "pycharm": {
     "name": "#%%\n"
    }
   }
  }
 ],
 "metadata": {
  "kernelspec": {
   "display_name": "Python 3",
   "language": "python",
   "name": "python3"
  },
  "language_info": {
   "codemirror_mode": {
    "name": "ipython",
    "version": 2
   },
   "file_extension": ".py",
   "mimetype": "text/x-python",
   "name": "python",
   "nbconvert_exporter": "python",
   "pygments_lexer": "ipython2",
   "version": "2.7.6"
  }
 },
 "nbformat": 4,
 "nbformat_minor": 0
}