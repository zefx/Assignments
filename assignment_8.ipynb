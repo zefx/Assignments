{
 "cells": [
  {
   "cell_type": "markdown",
   "source": [
    "1 Write a program a.k.a. calculator which performs basic mathematical operations (+, -, * or /). Your solution must be written as a function.\n",
    "\n",
    "\n",
    "Input\n",
    "\n",
    "Two real numbers and a mathematical symbol are entered from the keyboard. It is assumed that a user inputs data properly, so the program does not need to check whether the input is correct.\n",
    "\n",
    "Output\n",
    "\n",
    "Print the result of calculation for a given expression. NB! For division and subtraction, assume that the first number is divided by the second one; the second one is also subtracted from the first."
   ],
   "metadata": {
    "collapsed": false,
    "pycharm": {
     "name": "#%% md\n"
    }
   }
  },
  {
   "cell_type": "code",
   "execution_count": 5,
   "outputs": [
    {
     "name": "stdout",
     "output_type": "stream",
     "text": [
      "6.0\n"
     ]
    }
   ],
   "source": [
    "def calc(a, b, oper):\n",
    "    if oper == '+':\n",
    "        print(a + b)\n",
    "    elif oper == '-':\n",
    "        print(a - b)\n",
    "    elif oper == '*':\n",
    "        print(a * b)\n",
    "    else:\n",
    "        print(a / b)\n",
    "\n",
    "calc(float(input()), float(input()), input())\n"
   ],
   "metadata": {
    "collapsed": false,
    "pycharm": {
     "name": "#%%\n"
    }
   }
  },
  {
   "cell_type": "markdown",
   "source": [
    "2 Write a program that determines whether an entered number is prime. Your solution must be written as a function.\n",
    "\n",
    "Input\n",
    "\n",
    "A real number is given. It is assumed that a user inputs data properly, so the program does not need to check whether the input is correct.\n",
    "\n",
    "Output\n",
    "\n",
    "Print 'YES' if the given number is prime, or print 'NO' otherwise."
   ],
   "metadata": {
    "collapsed": false,
    "pycharm": {
     "name": "#%% md\n"
    }
   }
  },
  {
   "cell_type": "code",
   "execution_count": 10,
   "outputs": [
    {
     "name": "stdout",
     "output_type": "stream",
     "text": [
      "NO\n"
     ]
    }
   ],
   "source": [
    "def prime(num):\n",
    "    if num == 0 or num == 1:\n",
    "        print('NO')\n",
    "    if num > 1:\n",
    "        for i in range(2, num):\n",
    "            if num % i == 0:\n",
    "                print('NO')\n",
    "                break\n",
    "        else:\n",
    "            print('YES')\n",
    "\n",
    "prime(int(input()))"
   ],
   "metadata": {
    "collapsed": false,
    "pycharm": {
     "name": "#%%\n"
    }
   }
  },
  {
   "cell_type": "markdown",
   "source": [
    "3 Write a min4 (a, b, c, d) function that calculates the minimum of four numbers. The function should not contain an if statement, but uses the standard min function instead.\n",
    "\n",
    "Input\n",
    "\n",
    "Four integers are entered. It is assumed that a user inputs data properly, so the program does not need to check whether the input is correct.\n",
    "\n",
    "Output\n",
    "\n",
    "Print the solution for the problem."
   ],
   "metadata": {
    "collapsed": false,
    "pycharm": {
     "name": "#%% md\n"
    }
   }
  },
  {
   "cell_type": "code",
   "execution_count": 18,
   "outputs": [
    {
     "name": "stdout",
     "output_type": "stream",
     "text": [
      "1\n"
     ]
    }
   ],
   "source": [
    "def min4(*a):\n",
    "    print(min(a))\n",
    "\n",
    "min4(input(), input(), input(), input())"
   ],
   "metadata": {
    "collapsed": false,
    "pycharm": {
     "name": "#%%\n"
    }
   }
  },
  {
   "cell_type": "markdown",
   "source": [
    "4 Write a function power(a, n) which returns the result of a^n. Do not use the standard exponentiation function or operation to solve this problem.\n",
    "\n",
    "I​nput\n",
    "\n",
    "A positive integer a and an integer n are entered. It is assumed that a user inputs data properly, so the program does not need to check whether the input is correct.\n",
    "\n",
    "O​utput\n",
    "\n",
    "Print the solution for the problem. Make sure that a function returns an integer.\n",
    "\n"
   ],
   "metadata": {
    "collapsed": false,
    "pycharm": {
     "name": "#%% md\n"
    }
   }
  },
  {
   "cell_type": "code",
   "execution_count": 24,
   "outputs": [
    {
     "name": "stdout",
     "output_type": "stream",
     "text": [
      "8\n"
     ]
    }
   ],
   "source": [
    "def pwr(a, n):\n",
    "    res = 1\n",
    "    for i in range(n):\n",
    "        res *= a\n",
    "    print(res)\n",
    "\n",
    "pwr(int(input()), int(input()))"
   ],
   "metadata": {
    "collapsed": false,
    "pycharm": {
     "name": "#%%\n"
    }
   }
  },
  {
   "cell_type": "markdown",
   "source": [
    "5 You are given an n × m two-dimensional array (n, m <1000). An array symmetric to it with respect to the main diagonal is called transposed to the given one. It has dimensions m × n, i.e. the rows of the original array become the columns of the transposed one, and the columns of the original array become the rows of the transposed one. For a given array, make a transposed array and print it on the screen.\n",
    "\n",
    "Input\n",
    "\n",
    "First, two integers n and m are entered; then, the array is entered. It is assumed that a user inputs data properly, so the program does not need to check whether the input is correct.\n",
    "\n",
    "Output\n",
    "\n",
    "Print the transposed array."
   ],
   "metadata": {
    "collapsed": false,
    "pycharm": {
     "name": "#%% md\n"
    }
   }
  },
  {
   "cell_type": "code",
   "execution_count": 46,
   "outputs": [
    {
     "name": "stdout",
     "output_type": "stream",
     "text": [
      "1 2\n",
      "2 3\n",
      "3 4\n"
     ]
    }
   ],
   "source": [
    "def tr_arr_mtrx():\n",
    "    \"Read nxm in one row\"\n",
    "    n, m = map(int, input().split(' ')) # need to recheck solution here\n",
    "\n",
    "    \"Empty matrix creation\"\n",
    "    A = [[None]*m for i in range(n)]\n",
    "    B = [[None]*n for i in range(m)]\n",
    "\n",
    "    \"Input matrix numbers row by row\"\n",
    "    for i in range(n):\n",
    "        A[i] = input().split(' ')\n",
    "\n",
    "    \"Transpose\"\n",
    "    for i in range(n):\n",
    "        for j in range(m):\n",
    "            B[j][i] = A[i][j]\n",
    "\n",
    "    \"Print result\"\n",
    "    for j in range(m):\n",
    "        print(*B[j])\n",
    "\n",
    "tr_arr_mtrx()"
   ],
   "metadata": {
    "collapsed": false,
    "pycharm": {
     "name": "#%%\n"
    }
   }
  },
  {
   "cell_type": "markdown",
   "source": [
    "6 A rectangular array of size n x m is given. Write a function rotate(array) which rotates it 90 degrees clockwise.\n",
    "\n",
    "Input\n",
    "\n",
    "First, two integers n and m are entered; then, the array is entered. It is assumed that a user inputs data properly, so the program does not need to check whether the input is correct.\n",
    "\n",
    "Output\n",
    "\n",
    "Print the rotated array."
   ],
   "metadata": {
    "collapsed": false,
    "pycharm": {
     "name": "#%% md\n"
    }
   }
  },
  {
   "cell_type": "code",
   "execution_count": 52,
   "outputs": [
    {
     "name": "stdout",
     "output_type": "stream",
     "text": [
      "2 1\n",
      "3 2\n",
      "4 3\n"
     ]
    }
   ],
   "source": [
    "def rotate_arr_mtrx():\n",
    "    \"Read nxm in one row\"\n",
    "    n, m = map(int, input().split(' ')) # need to recheck solution here\n",
    "\n",
    "    \"Empty matrix creation\"\n",
    "    A = [[None]*m for i in range(n)]\n",
    "    B = [[None]*n for i in range(m)]\n",
    "\n",
    "    \"Input matrix numbers row by row\"\n",
    "    for i in range(n):\n",
    "        A[i] = input().split(' ')\n",
    "\n",
    "    \"Transpose\"\n",
    "    for i in range(n):\n",
    "        for j in range(m):\n",
    "            B[j][i] = A[i][j]\n",
    "\n",
    "    \"Reverse columns and print\"\n",
    "    for j in range(m):\n",
    "        B[j].reverse()\n",
    "        print(*B[j])\n",
    "\n",
    "rotate_arr_mtrx()"
   ],
   "metadata": {
    "collapsed": false,
    "pycharm": {
     "name": "#%%\n"
    }
   }
  }
 ],
 "metadata": {
  "kernelspec": {
   "display_name": "Python 3",
   "language": "python",
   "name": "python3"
  },
  "language_info": {
   "codemirror_mode": {
    "name": "ipython",
    "version": 2
   },
   "file_extension": ".py",
   "mimetype": "text/x-python",
   "name": "python",
   "nbconvert_exporter": "python",
   "pygments_lexer": "ipython2",
   "version": "2.7.6"
  }
 },
 "nbformat": 4,
 "nbformat_minor": 0
}