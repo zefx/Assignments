{
 "cells": [
  {
   "cell_type": "markdown",
   "source": [
    "1 Write a program that greets a user with the message which includes the word 'Hello', a user's name, and punctuation marks. The program should, first, read a user's name entered from the keyboard and, second, print the greeting to the screen. Note that there must be a space after the comma, and there is no space before the exclamation mark.\n",
    "Input\n",
    "A string, which is a user's name, is entered. The length of the string does not exceed 100 characters. It is assumed that a user inputs data properly, so the program does not need to check whether the input is correct.\n",
    "Output\n",
    "Print the solution of the problem.\n"
   ],
   "metadata": {
    "collapsed": false,
    "pycharm": {
     "name": "#%% md\n"
    }
   }
  },
  {
   "cell_type": "code",
   "execution_count": 6,
   "outputs": [
    {
     "name": "stdout",
     "output_type": "stream",
     "text": [
      "Hello, Oleg!"
     ]
    }
   ],
   "source": [
    "username = input()\n",
    "print('Hello,', username, end='!')"
   ],
   "metadata": {
    "collapsed": false,
    "pycharm": {
     "name": "#%%\n"
    }
   }
  },
  {
   "cell_type": "markdown",
   "source": [
    "2 Sometimes even a simple and funny task could be a tricky one in Python! Write a program that displays n cats for a given number n from 1 to 9. The image of one cat is 10 × 3 characters long. There is also an empty column of spaces between two adjacent cats. It is allowed to display an empty column after the last cat. You can copy the cat from the example below.\n",
    "\n",
    '''/\\___/\\\n",
    "(=^o^=)\n",
    "(\") (\")__/\n",
    '''
    "\n",
    "Input\n",
    "A positive integer from 1 to 9 is entered. It is assumed that a user enters the number correctly, and there is no need to check the input.\n",
    "Output\n",
    "Print the solution of the problem."
   ],
   "metadata": {
    "collapsed": false,
    "pycharm": {
     "name": "#%% md\n"
    }
   }
  },
  {
   "cell_type": "code",
   "execution_count": 12,
   "outputs": [
    {
     "name": "stdout",
     "output_type": "stream",
     "text": [
      "/\\___/\\    /\\___/\\    /\\___/\\    \n",
      "(=^o^=)    (=^o^=)    (=^o^=)    \n",
      "(\") (\")__/ (\") (\")__/ (\") (\")__/ \n"
     ]
    }
   ],
   "source": [
    "cats_number = int(input())\n",
    "print(cats_number*'/\\___/\\    ')\n",
    "print(cats_number*'(=^o^=)    ')\n",
    "print(cats_number*'(\") (\")__/ ')\n"
   ],
   "metadata": {
    "collapsed": false,
    "pycharm": {
     "name": "#%%\n"
    }
   }
  },
  {
   "cell_type": "markdown",
   "source": [
    "3 A float number is entered from the keyboard. Write a program that converts the data type of this number to integer and prints the result on the screen.\n",
    "Input\n",
    "Any float number which is entered from the keyboard. It is assumed that a user inputs data properly, so the program does not need to check whether the input is correct.\n",
    "Output\n",
    "Print the solution of the problem."
   ],
   "metadata": {
    "collapsed": false,
    "pycharm": {
     "name": "#%% md\n"
    }
   }
  },
  {
   "cell_type": "code",
   "execution_count": 18,
   "outputs": [
    {
     "name": "stdout",
     "output_type": "stream",
     "text": [
      "3\n"
     ]
    }
   ],
   "source": [
    "float_number = int(float(input()))\n",
    "print(float_number)"
   ],
   "metadata": {
    "collapsed": false,
    "pycharm": {
     "name": "#%%\n"
    }
   }
  },
  {
   "cell_type": "markdown",
   "source": [
    "4 Two numbers a and b are given. Write a program that calculates the hypotenuse of a triangle with the given legs and prints the result on the screen.\n",
    "Input\n",
    "Two positive numbers not exceeding 1000 are entered. It is assumed that a user inputs data properly, so the program does not need to check whether the input is correct. It is also assumed that the triangle with the given parameters exists.\n",
    "Output\n",
    "Print the solution of the problem."
   ],
   "metadata": {
    "collapsed": false,
    "pycharm": {
     "name": "#%% md\n"
    }
   }
  },
  {
   "cell_type": "code",
   "execution_count": 22,
   "outputs": [
    {
     "name": "stdout",
     "output_type": "stream",
     "text": [
      "5.0\n"
     ]
    }
   ],
   "source": [
    "catet1 = int(input())\n",
    "catet2 = int(input())\n",
    "print((catet1**2 + catet2**2)**0.5)"
   ],
   "metadata": {
    "collapsed": false,
    "pycharm": {
     "name": "#%%\n"
    }
   }
  },
  {
   "cell_type": "markdown",
   "source": [
    "5 A three-digit number is given. Write a program that calculates the sum of its digits and displays the result on the screen.\n",
    "Input\n",
    "A positive integer is entered. It is assumed that a user enters the number correctly, and there is no need to check the input.\n",
    "Output\n",
    "Print the solution of the problem."
   ],
   "metadata": {
    "collapsed": false,
    "pycharm": {
     "name": "#%% md\n"
    }
   }
  },
  {
   "cell_type": "code",
   "execution_count": 28,
   "outputs": [
    {
     "name": "stdout",
     "output_type": "stream",
     "text": [
      "6\n"
     ]
    }
   ],
   "source": [
    "number = int(input())\n",
    "digit_1 = number % 10\n",
    "digit_2 = number % 100 // 10\n",
    "digit_3 = number // 100\n",
    "print(digit_1 + digit_2 + digit_3)"
   ],
   "metadata": {
    "collapsed": false,
    "pycharm": {
     "name": "#%%\n"
    }
   }
  },
  {
   "cell_type": "markdown",
   "source": [
    "6 A positive integer N is given. Write a program that cuts off the last K digits from the entered number and prints the result on the screen. For example, with N = 123456 and K = 3, the result should be 123.\n",
    "Input\n",
    "A positive integer N and a positive integer K are entered. It is assumed that a user inputs data properly, so the program does not need to check whether the input is correct. It is also assumed that K does not exceed the number of digits in N.\n",
    "Output\n",
    "Print the solution of the problem."
   ],
   "metadata": {
    "collapsed": false,
    "pycharm": {
     "name": "#%% md\n"
    }
   }
  },
  {
   "cell_type": "code",
   "execution_count": 33,
   "outputs": [
    {
     "name": "stdout",
     "output_type": "stream",
     "text": [
      "12\n"
     ]
    }
   ],
   "source": [
    "num = str(input())\n",
    "cut = int(input())\n",
    "print(num[:-cut])"
   ],
   "metadata": {
    "collapsed": false,
    "pycharm": {
     "name": "#%%\n"
    }
   }
  },
  {
   "cell_type": "markdown",
   "source": [
    "7 Write a program that reads degrees in Celsius (°C) and converts them to degrees in Fahrenheit (°F). The result should be printed on the screen as shown in the example below.\n",
    "\n",
    "   0.0°C is equal to 32.0°F\n",
    "\n",
    "Input\n",
    "A number is entered from the keyboard. It is assumed that a user enters the number correctly, and there is no need to check the input.\n",
    "Output\n",
    "Print the solution of the problem."
   ],
   "metadata": {
    "collapsed": false,
    "pycharm": {
     "name": "#%% md\n"
    }
   }
  },
  {
   "cell_type": "code",
   "execution_count": 39,
   "outputs": [
    {
     "name": "stdout",
     "output_type": "stream",
     "text": [
      "32.0°С is equal to 89.6°F\n"
     ]
    }
   ],
   "source": [
    "celsius = float(input())\n",
    "fahr = (9 / 5) * celsius + 32\n",
    "print(str(celsius) + '\\xb0C is equal to ' + str(fahr) + '\\xb0F')"
   ],
   "metadata": {
    "collapsed": false,
    "pycharm": {
     "name": "#%%\n"
    }
   }
  },
  {
   "cell_type": "markdown",
   "source": [
    "8 Ivan plays Super Mario Bros very successfully and eventually he gets N extra lives. However, because of the fact that in a 8-bit game it is impossible to store more than 2⁸ or 256 units, the variable in which the number of lives is stored can take values from 0 to 255 only. Hence, if there are 255 lives and a gamer receives an additional life, the counter will be reseted to zero. How many lives are on the counter?\n",
    "Input\n",
    "A positive integer - the number of lives which Ivan has including extra lives - is entered. It is assumed that a user enters the number correctly, and there is no need to check the input.\n",
    "Output\n",
    "Print the solution of the problem."
   ],
   "metadata": {
    "collapsed": false,
    "pycharm": {
     "name": "#%% md\n"
    }
   }
  },
  {
   "cell_type": "code",
   "execution_count": 50,
   "outputs": [
    {
     "name": "stdout",
     "output_type": "stream",
     "text": [
      "0\n"
     ]
    }
   ],
   "source": [
    "lives = int(input())\n",
    "print (lives % 256)"
   ],
   "metadata": {
    "collapsed": false,
    "pycharm": {
     "name": "#%%\n"
    }
   }
  },
  {
   "cell_type": "markdown",
   "source": [
    "9 The electronic clock shows the time in the h:mm:ss format, where h is the number of hours, mm is the two-digit number of minutes, and ss is the two-digit number of seconds. The number of minutes and seconds are padded with zeros to a two-digit number if necessary. N seconds have passed since the beginning of the day. Write a program that prints on the screen what the clock will show.\n",
    "Input\n",
    "A positive integer N is entered. It is assumed that a user inputs data properly, so the program does not need to check whether the input is correct.\n",
    "Output\n",
    "Print the solution of the problem."
   ],
   "metadata": {
    "collapsed": false,
    "pycharm": {
     "name": "#%% md\n"
    }
   }
  },
  {
   "cell_type": "code",
   "execution_count": 47,
   "outputs": [
    {
     "name": "stdout",
     "output_type": "stream",
     "text": [
      "0:20:34\n"
     ]
    }
   ],
   "source": [
    "time = int(input())\n",
    "hrs = time // 3600\n",
    "min = time % 3600 // 60\n",
    "sec = time % 60\n",
    "print(str(hrs) + ':' + str(min//10) + str(min%10) + ':' + str(sec//10) + str(sec%10))"
   ],
   "metadata": {
    "collapsed": false,
    "pycharm": {
     "name": "#%%\n"
    }
   }
  }
 ],
 "metadata": {
  "kernelspec": {
   "display_name": "Python 3",
   "language": "python",
   "name": "python3"
  },
  "language_info": {
   "codemirror_mode": {
    "name": "ipython",
    "version": 2
   },
   "file_extension": ".py",
   "mimetype": "text/x-python",
   "name": "python",
   "nbconvert_exporter": "python",
   "pygments_lexer": "ipython2",
   "version": "2.7.6"
  }
 },
 "nbformat": 4,
 "nbformat_minor": 0
}
