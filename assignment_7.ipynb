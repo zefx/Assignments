{
 "cells": [
  {
   "cell_type": "markdown",
   "source": [
    "1 Write a test result handler which, first, gets a number of correct answers and a number of questions in a test, and then prints a message in the format like 'You've done:  'percent'% of all exercises correctly, well done!'. Limit floats to one decimal place.\n",
    "\n",
    "I​nput\n",
    "\n",
    "The program reads two integers from the keyboard as input. It is assumed that a user inputs data properly, so the program does not need to check whether the input is correct.\n",
    "\n",
    "O​utput\n",
    "\n",
    "Print the solution of the problem."
   ],
   "metadata": {
    "collapsed": false,
    "pycharm": {
     "name": "#%% md\n"
    }
   }
  },
  {
   "cell_type": "code",
   "execution_count": 9,
   "outputs": [
    {
     "name": "stdout",
     "output_type": "stream",
     "text": [
      "You've done: 100.0% of all exercises correctly, well done!\n"
     ]
    }
   ],
   "source": [
    "a_n = int(input())\n",
    "q_n = int(input())\n",
    "\n",
    "percents = round((a_n/q_n)*100, 1)\n",
    "\n",
    "print(\"You've done: {}% of all exercises correctly, well done!\".format(percents))"
   ],
   "metadata": {
    "collapsed": false,
    "pycharm": {
     "name": "#%%\n"
    }
   }
  },
  {
   "cell_type": "markdown",
   "source": [
    "2 Write a program which prints the first element of a string in the first line; from 2nd to 5th elements of the given string in the second line; all the elements in the reverse order in the third line; every third element of the given string in the fourth line.\n",
    "\n",
    "I​nput\n",
    "\n",
    "The program reads a​ string from the keyboard as input. It is assumed that a user inputs data properly, so the program does not need to check whether the input is correct.\n",
    "\n",
    "O​utput\n",
    "\n",
    "Print the solution of the problem."
   ],
   "metadata": {
    "collapsed": false,
    "pycharm": {
     "name": "#%% md\n"
    }
   }
  },
  {
   "cell_type": "code",
   "execution_count": 2,
   "outputs": [
    {
     "name": "stdout",
     "output_type": "stream",
     "text": [
      "H\n",
      "llo\n",
      "!dlrow olleH\n",
      "Hlwl\n"
     ]
    }
   ],
   "source": [
    "inp_line = input()\n",
    "\n",
    "print(inp_line[0])\n",
    "print(inp_line[1:5])\n",
    "print(inp_line[::-1])\n",
    "print(inp_line[2::3])"
   ],
   "metadata": {
    "collapsed": false,
    "pycharm": {
     "name": "#%%\n"
    }
   }
  },
  {
   "cell_type": "markdown",
   "source": [
    "3 Imagine you develop a program for a website which checks whether the number of characters of an entered string exceeds the limit. If the length of the entered string is more than this limit the program prints 'error'; it prints 'ok' otherwise.\n",
    "\n",
    "I​nput\n",
    "\n",
    "T​he program reads a positive natural number and a string entered from the keyboard as input. It is assumed that a user inputs data properly, so the program does not need to check whether the input is correct.\n",
    "\n",
    "O​utput\n",
    "\n",
    "Print the solution of the problem."
   ],
   "metadata": {
    "collapsed": false,
    "pycharm": {
     "name": "#%% md\n"
    }
   }
  },
  {
   "cell_type": "code",
   "execution_count": 10,
   "outputs": [
    {
     "name": "stdout",
     "output_type": "stream",
     "text": [
      "error\n"
     ]
    }
   ],
   "source": [
    "limit_n = int(input())\n",
    "str_inp = input()\n",
    "\n",
    "if len(str_inp) > limit_n:\n",
    "    print('error')\n",
    "else:\n",
    "    print('ok')"
   ],
   "metadata": {
    "collapsed": false,
    "pycharm": {
     "name": "#%%\n"
    }
   }
  },
  {
   "cell_type": "markdown",
   "source": [
    "4 A string which consists of words separated by spaces is given. Determine how many words the string contains.\n",
    "\n",
    "I​nput\n",
    "\n",
    "A string is entered. It is assumed that a user inputs data properly, so the program does not need to check whether the input is correct.\n",
    "\n",
    "O​utput\n",
    "\n",
    "Print the solution of the problem.\n",
    "\n"
   ],
   "metadata": {
    "collapsed": false,
    "pycharm": {
     "name": "#%% md\n"
    }
   }
  },
  {
   "cell_type": "code",
   "execution_count": 11,
   "outputs": [
    {
     "name": "stdout",
     "output_type": "stream",
     "text": [
      "4\n"
     ]
    }
   ],
   "source": [
    "str_inp = input()\n",
    "\n",
    "words_list = str_inp.split()\n",
    "print(len(words_list))"
   ],
   "metadata": {
    "collapsed": false,
    "pycharm": {
     "name": "#%%\n"
    }
   }
  },
  {
   "cell_type": "markdown",
   "source": [
    "5 A string is given. Write a program which cuts it into two equal parts if the length of the string is even. If the length of the string is odd, then the length of the first part must be one character longer. Then, the program should rearrange these two parts in places, store the result in a new variable, and print it on the screen.\n",
    "\n",
    "I​nput\n",
    "\n",
    "A string is entered. It is assumed that a user inputs data properly, so the program does not need to check whether the input is correct.\n",
    "\n",
    "O​utput\n",
    "\n",
    "Print the solution of the problem.\n",
    "\n"
   ],
   "metadata": {
    "collapsed": false,
    "pycharm": {
     "name": "#%% md\n"
    }
   }
  },
  {
   "cell_type": "code",
   "execution_count": 37,
   "outputs": [
    {
     "name": "stdout",
     "output_type": "stream",
     "text": [
      "LOHEL\n"
     ]
    }
   ],
   "source": [
    "str_inp = input()\n",
    "lenghth = len(str_inp)\n",
    "\n",
    "\n",
    "if lenghth % 2 == 0:\n",
    "    mixed = str_inp[:lenghth // 2]\n",
    "    mixed2 = str_inp[lenghth // 2:]\n",
    "    print(mixed2 + mixed)\n",
    "else:\n",
    "    mixed = str_inp[:lenghth // 2 +1]\n",
    "    mixed2 = str_inp[lenghth // 2 +1:]\n",
    "    print(mixed2 + mixed)"
   ],
   "metadata": {
    "collapsed": false,
    "pycharm": {
     "name": "#%%\n"
    }
   }
  },
  {
   "cell_type": "markdown",
   "source": [
    "6 A string of exactly two words separated by a space is given. Write a program which rearranges these words and prints the result on the screen.\n",
    "\n",
    "I​nput\n",
    "\n",
    "A string is entered. It is assumed that a user inputs data properly, so the program does not need to check whether the input is correct.\n",
    "\n",
    "O​utput\n",
    "\n",
    "Print the solution of the problem."
   ],
   "metadata": {
    "collapsed": false,
    "pycharm": {
     "name": "#%% md\n"
    }
   }
  },
  {
   "cell_type": "code",
   "execution_count": 27,
   "outputs": [
    {
     "name": "stdout",
     "output_type": "stream",
     "text": [
      "second first\n"
     ]
    }
   ],
   "source": [
    "str_inp = input()\n",
    "splitted = str_inp.split()\n",
    "print(splitted[1] + ' ' + splitted[0])"
   ],
   "metadata": {
    "collapsed": false,
    "pycharm": {
     "name": "#%%\n"
    }
   }
  },
  {
   "cell_type": "markdown",
   "source": [
    "7 A string is given. Replace all 1's in this string with 'one'.\n",
    "\n",
    "I​nput\n",
    "\n",
    "A string is entered. It is assumed that a user inputs data properly, so the program does not need to check whether the input is correct.\n",
    "\n",
    "O​utput\n",
    "\n",
    "Print the solution of the problem."
   ],
   "metadata": {
    "collapsed": false,
    "pycharm": {
     "name": "#%% md\n"
    }
   }
  },
  {
   "cell_type": "code",
   "execution_count": 29,
   "outputs": [
    {
     "name": "stdout",
     "output_type": "stream",
     "text": [
      "oneonetwotwo\n"
     ]
    }
   ],
   "source": [
    "str_inp = input()\n",
    "print(str_inp.replace('1', 'one'))"
   ],
   "metadata": {
    "collapsed": false,
    "pycharm": {
     "name": "#%%\n"
    }
   }
  },
  {
   "cell_type": "markdown",
   "source": [
    "8 A word which consists only of uppercase and lowercase Latin letters is given. Check if it is true that this word is read the same way both from right to left and from left to right, i.e. if it is a palindrome. Uppercase and lowercase letters are considered indistinguishable. Print the word YES if the word is a palindrome and the word NO if it is not.\n",
    "\n",
    "I​nput\n",
    "\n",
    "A string is entered. It is assumed that a user inputs data properly, so the program does not need to check whether the input is correct.\n",
    "\n",
    "O​utput\n",
    "\n",
    "Print the solution of the problem."
   ],
   "metadata": {
    "collapsed": false,
    "pycharm": {
     "name": "#%% md\n"
    }
   }
  },
  {
   "cell_type": "code",
   "execution_count": 31,
   "outputs": [
    {
     "name": "stdout",
     "output_type": "stream",
     "text": [
      "NO\n"
     ]
    }
   ],
   "source": [
    "str_inp = input()\n",
    "\n",
    "if str_inp[::1].lower() == str_inp[::-1].lower():\n",
    "    print('YES')\n",
    "else:\n",
    "    print('NO')"
   ],
   "metadata": {
    "collapsed": false,
    "pycharm": {
     "name": "#%%\n"
    }
   }
  }
 ],
 "metadata": {
  "kernelspec": {
   "display_name": "Python 3",
   "language": "python",
   "name": "python3"
  },
  "language_info": {
   "codemirror_mode": {
    "name": "ipython",
    "version": 2
   },
   "file_extension": ".py",
   "mimetype": "text/x-python",
   "name": "python",
   "nbconvert_exporter": "python",
   "pygments_lexer": "ipython2",
   "version": "2.7.6"
  }
 },
 "nbformat": 4,
 "nbformat_minor": 0
}